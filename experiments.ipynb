{
 "cells": [
  {
   "cell_type": "markdown",
   "id": "43b78014",
   "metadata": {},
   "source": [
    "Data directories"
   ]
  },
  {
   "cell_type": "code",
   "execution_count": 1,
   "id": "9a3957b1",
   "metadata": {},
   "outputs": [],
   "source": [
    "dataset_dir = '../tcga'\n",
    "expression_dir = dataset_dir + '/mrna_expression_data/'\n",
    "mutation_dir = dataset_dir + '/mrna_mutation_data/'"
   ]
  },
  {
   "cell_type": "markdown",
   "id": "dd73058c",
   "metadata": {},
   "source": [
    "Mutation annotation files"
   ]
  },
  {
   "cell_type": "code",
   "execution_count": 46,
   "id": "9473c76e",
   "metadata": {},
   "outputs": [],
   "source": [
    "import os\n",
    "import pandas as pd"
   ]
  },
  {
   "cell_type": "code",
   "execution_count": 7,
   "id": "025577b9",
   "metadata": {},
   "outputs": [
    {
     "name": "stdout",
     "output_type": "stream",
     "text": [
      "Missing annotation: 1e171ca7-9c44-4dc9-8908-b35b40e3464e\n",
      "Missing annotation: 23c0af0c-102c-40e6-8e93-7ec13bc032b9\n",
      "Missing annotation: 2e9ac636-1882-4d71-b672-c057d2730f03\n",
      "Missing annotation: 56d15f8e-3788-4715-9ec8-853a107679a4\n",
      "Missing annotation: 7a7dcf94-b3d7-4516-9736-db8fdb7b451a\n",
      "Missing annotation: 803decea-3a3f-42bf-8122-328bc32aa850\n",
      "Missing annotation: c1a21a51-b8b7-453d-932e-2eacbaed8c2d\n",
      "Missing annotation: cb5fd63b-da6d-4016-b150-2a0682d00db2\n",
      "Missing annotation: e0e31082-4736-4917-a72b-9bf455239984\n",
      "Missing annotation: f3508f1c-34c8-4e72-87b3-0163273b0393\n",
      "Missing annotation: f90b3b34-16b3-435c-bbf1-82a1450ec7f0\n",
      "981\n"
     ]
    }
   ],
   "source": [
    "mutation_entity_ids = []\n",
    "for case_id in os.listdir(mutation_dir):\n",
    "    try:\n",
    "        annotations_df = pd.read_csv(mutation_dir+case_id+'/annotations.txt', sep='\\t')\n",
    "        mutation_entity_ids.append(annotations_df['entity_id'].iloc[0])\n",
    "    except:\n",
    "        print(f'Missing annotation: {case_id}')\n",
    "    \n",
    "\n",
    "print(len(mutation_entity_ids))"
   ]
  },
  {
   "cell_type": "code",
   "execution_count": 23,
   "id": "2f74e0b0",
   "metadata": {},
   "outputs": [
    {
     "name": "stdout",
     "output_type": "stream",
     "text": [
      "Entity id: 002c911e-0d8a-4bce-84af-341a32cae334\n",
      "{'data': {'data_format': 'MAF', 'cases': [{'samples': [{'portions': [{'analytes': [{'aliquots': [{'aliquot_quantity': 2.08, 'amount': None, 'aliquot_id': 'b3568259-c63c-4eb1-bbc7-af711ddd33db', 'source_center': '23', 'analyte_type': None, 'updated_datetime': '2022-04-29T07:04:19.361005-05:00', 'submitter_id': 'TCGA-A1-A0SO-01A-22D-A099-09', 'concentration': 0.08, 'state': 'released', 'aliquot_volume': 26.0, 'analyte_type_id': None, 'created_datetime': None}]}]}]}, {'portions': [{'analytes': [{'aliquots': [{'aliquot_quantity': 1.82, 'amount': None, 'aliquot_id': '17ba8cdb-e35b-4496-a787-d1a7ee7d4a1e', 'source_center': '23', 'analyte_type': None, 'updated_datetime': '2022-04-29T07:05:03.186372-05:00', 'submitter_id': 'TCGA-A1-A0SO-10A-03D-A099-09', 'concentration': 0.07, 'state': 'released', 'aliquot_volume': 26.0, 'analyte_type_id': None, 'created_datetime': None}]}]}]}]}], 'access': 'open', 'file_name': '0b515b8a-b1ab-4508-8185-952fb73d9bf0.wxs.aliquot_ensemble_masked.maf.gz', 'submitter_id': '68235c17-8202-41e1-9da2-0a3204ca94dc', 'data_category': 'Simple Nucleotide Variation', 'acl': ['open'], 'type': 'masked_somatic_mutation', 'platform': 'Illumina', 'file_size': 101712, 'created_datetime': '2022-08-01T13:27:40.631074-05:00', 'md5sum': 'b1a798052723ea5e0f96b4c0e6459e31', 'updated_datetime': '2024-07-31T04:00:51.818723-05:00', 'file_id': '002c911e-0d8a-4bce-84af-341a32cae334', 'data_type': 'Masked Somatic Mutation', 'state': 'released', 'experimental_strategy': 'WXS', 'version': '2', 'data_release': '35.0 - 43.0'}, 'warnings': {}}\n"
     ]
    }
   ],
   "source": [
    "import requests\n",
    "\n",
    "def lookup_file_metadata(file_uuid):\n",
    "    url = f\"https://api.gdc.cancer.gov/files/{file_uuid}?expand=cases.samples.portions.analytes.aliquots\"\n",
    "    response = requests.get(url)\n",
    "    return response.json()\n",
    "\n",
    "# Example\n",
    "print('Entity id:', mutation_entity_ids[0])\n",
    "mutation_metadata = lookup_file_metadata(mutation_entity_ids[0])\n",
    "print(mutation_metadata)"
   ]
  },
  {
   "cell_type": "code",
   "execution_count": 24,
   "id": "507bb63a",
   "metadata": {},
   "outputs": [
    {
     "name": "stdout",
     "output_type": "stream",
     "text": [
      "UUID: 0019c951-16c5-48d0-85c8-58d96b12d330\n",
      "{'samples': [{'portions': [{'analytes': [{'aliquots': [{'aliquot_quantity': 4.27, 'amount': None, 'aliquot_id': 'eddd285e-a946-4e4e-a21d-6e84ed397594', 'source_center': '23', 'analyte_type': None, 'updated_datetime': '2022-04-28T23:44:19.603620-05:00', 'submitter_id': 'TCGA-D8-A1XO-01A-11R-A14M-07', 'concentration': 0.16, 'state': 'released', 'aliquot_volume': 26.7, 'analyte_type_id': None, 'created_datetime': None}]}]}]}]}\n"
     ]
    }
   ],
   "source": [
    "print('UUID:', expression_case_ids[0])\n",
    "expression_metadata = lookup_file_metadata(expression_case_ids[0])\n",
    "#print(metadata)\n",
    "print(expression_metadata['data']['cases'][0])\n",
    "#metadata['data']['cases'][0]['case_id']\n",
    "# mutation_metadata['data']['cases'][0]['samples'][0]['sample_id']\n",
    "# mutation_metadata['data']['cases'][0]['samples'][0]['portions'][0]['analytes'][0]['aliquots'][0]['aliquot_id']"
   ]
  },
  {
   "cell_type": "code",
   "execution_count": 21,
   "id": "bb8d2df1",
   "metadata": {},
   "outputs": [],
   "source": [
    "def extract_aliquot_ids(metadata):\n",
    "    aliquot_ids = []\n",
    "    try:\n",
    "        for sample in metadata['data']['cases'][0]['samples']:\n",
    "            for portion in sample.get('portions', []):\n",
    "                for analyte in portion.get('analytes', []):\n",
    "                    for aliquot in analyte.get('aliquots', []):\n",
    "                        aliquot_ids.append(aliquot['aliquot_id'])\n",
    "    except Exception as e:\n",
    "        print(\"Error while parsing aliquot IDs:\", e)\n",
    "    return aliquot_ids"
   ]
  },
  {
   "cell_type": "code",
   "execution_count": 25,
   "id": "384dc50a",
   "metadata": {},
   "outputs": [
    {
     "name": "stdout",
     "output_type": "stream",
     "text": [
      "Mutation aliquots: ['b3568259-c63c-4eb1-bbc7-af711ddd33db', '17ba8cdb-e35b-4496-a787-d1a7ee7d4a1e']\n",
      "Expression aliquots: ['eddd285e-a946-4e4e-a21d-6e84ed397594']\n"
     ]
    }
   ],
   "source": [
    "print('Mutation aliquots:', extract_aliquot_ids(mutation_metadata))\n",
    "print('Expression aliquots:', extract_aliquot_ids(expression_metadata))"
   ]
  },
  {
   "cell_type": "markdown",
   "id": "544a2f14",
   "metadata": {},
   "source": [
    "Unzip mutation files"
   ]
  },
  {
   "cell_type": "code",
   "execution_count": 25,
   "id": "ea4dcf7b",
   "metadata": {},
   "outputs": [],
   "source": [
    "import gzip\n",
    "import os\n",
    "import re"
   ]
  },
  {
   "cell_type": "code",
   "execution_count": 38,
   "id": "3fadb8fb",
   "metadata": {},
   "outputs": [
    {
     "name": "stdout",
     "output_type": "stream",
     "text": [
      "992\n",
      "992\n"
     ]
    }
   ],
   "source": [
    "mutation_aliquot_ids = []\n",
    "for file_id in os.listdir(mutation_dir):\n",
    "    for filename in os.listdir(mutation_dir+file_id):\n",
    "        if re.match(r\"(.+)\\.wxs\\.aliquot_ensemble_masked\\.maf\\.gz\", filename):\n",
    "            name = mutation_dir + file_id + \"/\" + filename\n",
    "            with gzip.open(name, 'rb') as f:\n",
    "                content = f.read().decode('utf-8')\n",
    "                match = re.search(r\"^#tumor\\.aliquot (.+)$\", content, re.MULTILINE)\n",
    "                if match:\n",
    "                    aliquot_id = str(match.group(1))\n",
    "                    mutation_aliquot_ids.append(aliquot_id)\n",
    "\n",
    "print(len(mutation_aliquot_ids))\n",
    "mutation_aliquot_ids = set(mutation_aliquot_ids)\n",
    "print(len(mutation_aliquot_ids))\n"
   ]
  },
  {
   "cell_type": "markdown",
   "id": "75d68613",
   "metadata": {},
   "source": [
    "Inspect names"
   ]
  },
  {
   "cell_type": "code",
   "execution_count": null,
   "id": "72e05c39",
   "metadata": {},
   "outputs": [],
   "source": [
    "import os\n",
    "import re"
   ]
  },
  {
   "cell_type": "code",
   "execution_count": 11,
   "id": "dd31a20f",
   "metadata": {},
   "outputs": [],
   "source": [
    "expression_case_ids = os.listdir(expression_dir)"
   ]
  },
  {
   "cell_type": "code",
   "execution_count": null,
   "id": "130d6434",
   "metadata": {},
   "outputs": [
    {
     "name": "stdout",
     "output_type": "stream",
     "text": [
      "Number of expression samples: 1231\n",
      "Number of mutation samples: 992\n",
      "Number of shared uuids: 0\n"
     ]
    }
   ],
   "source": [
    "def extract_uuids(dir, ptrn):\n",
    "    res = []\n",
    "    for sample_id in os.listdir(dir):\n",
    "        for filename in os.listdir(dir+sample_id):\n",
    "            match = re.search(ptrn, filename, re.DOTALL)\n",
    "            if match:\n",
    "                res.append(match.group(1)) \n",
    "    return res\n",
    "\n",
    "expression_uuids = set(extract_uuids(expression_dir, r\"^(.+)\\.rna_seq\\.augmented_star_gene_counts\"))\n",
    "mutation_uuids = set(extract_uuids(mutation_dir, r\"(.+)\\.wxs\\.aliquot_ensemble_masked\\.maf\\.gz\"))\n",
    "\n",
    "uuids = expression_uuids.intersection(mutation_uuids)\n",
    "print('Number of expression samples:', len(expression_uuids))\n",
    "print('Number of mutation samples:', len(mutation_uuids))\n",
    "print('Number of shared uuids:', len(uuids))"
   ]
  },
  {
   "cell_type": "code",
   "execution_count": 44,
   "id": "aa063fd1",
   "metadata": {},
   "outputs": [
    {
     "data": {
      "text/plain": [
       "set()"
      ]
     },
     "execution_count": 44,
     "metadata": {},
     "output_type": "execute_result"
    }
   ],
   "source": [
    "expression_uuids & mutation_aliquot_ids"
   ]
  },
  {
   "cell_type": "code",
   "execution_count": 59,
   "id": "84e0b0d9",
   "metadata": {},
   "outputs": [
    {
     "data": {
      "text/plain": [
       "set()"
      ]
     },
     "execution_count": 59,
     "metadata": {},
     "output_type": "execute_result"
    }
   ],
   "source": [
    "expression_uuids & mutation_entity_ids"
   ]
  },
  {
   "cell_type": "code",
   "execution_count": 61,
   "id": "f668b752",
   "metadata": {},
   "outputs": [
    {
     "data": {
      "text/plain": [
       "set()"
      ]
     },
     "execution_count": 61,
     "metadata": {},
     "output_type": "execute_result"
    }
   ],
   "source": [
    "expression_case_ids & mutation_aliquot_ids"
   ]
  },
  {
   "cell_type": "code",
   "execution_count": 62,
   "id": "cd00243e",
   "metadata": {},
   "outputs": [
    {
     "data": {
      "text/plain": [
       "set()"
      ]
     },
     "execution_count": 62,
     "metadata": {},
     "output_type": "execute_result"
    }
   ],
   "source": [
    "expression_case_ids & mutation_entity_ids"
   ]
  },
  {
   "cell_type": "code",
   "execution_count": null,
   "id": "a469276a",
   "metadata": {},
   "outputs": [],
   "source": []
  },
  {
   "cell_type": "code",
   "execution_count": null,
   "id": "4b482a3f",
   "metadata": {},
   "outputs": [],
   "source": []
  },
  {
   "cell_type": "code",
   "execution_count": 1,
   "id": "c5f088ad",
   "metadata": {},
   "outputs": [],
   "source": [
    "sample_id = 'f6392b6f-24d9-4768-8269-c7c647f8ff8c'\n",
    "uuid = '0e062eef-29b8-4622-afd9-0d3f0d1c37d6'"
   ]
  },
  {
   "cell_type": "code",
   "execution_count": 4,
   "id": "05e18cdb",
   "metadata": {},
   "outputs": [],
   "source": [
    "file_path = f'mrna_expression_data/{sample_id}/{uuid}.rna_seq.augmented_star_gene_counts.tsv'"
   ]
  },
  {
   "cell_type": "code",
   "execution_count": 5,
   "id": "5c72e8a2",
   "metadata": {},
   "outputs": [],
   "source": [
    "import pandas as pd\n",
    "data = pd.read_csv(file_path, sep='\\t', skiprows=1)"
   ]
  },
  {
   "cell_type": "code",
   "execution_count": null,
   "id": "c6e1b14d",
   "metadata": {},
   "outputs": [
    {
     "data": {
      "text/html": [
       "<div>\n",
       "<style scoped>\n",
       "    .dataframe tbody tr th:only-of-type {\n",
       "        vertical-align: middle;\n",
       "    }\n",
       "\n",
       "    .dataframe tbody tr th {\n",
       "        vertical-align: top;\n",
       "    }\n",
       "\n",
       "    .dataframe thead th {\n",
       "        text-align: right;\n",
       "    }\n",
       "</style>\n",
       "<table border=\"1\" class=\"dataframe\">\n",
       "  <thead>\n",
       "    <tr style=\"text-align: right;\">\n",
       "      <th></th>\n",
       "      <th>gene_id</th>\n",
       "      <th>gene_name</th>\n",
       "      <th>gene_type</th>\n",
       "      <th>unstranded</th>\n",
       "      <th>stranded_first</th>\n",
       "      <th>stranded_second</th>\n",
       "      <th>tpm_unstranded</th>\n",
       "      <th>fpkm_unstranded</th>\n",
       "      <th>fpkm_uq_unstranded</th>\n",
       "    </tr>\n",
       "  </thead>\n",
       "  <tbody>\n",
       "    <tr>\n",
       "      <th>0</th>\n",
       "      <td>N_unmapped</td>\n",
       "      <td>NaN</td>\n",
       "      <td>NaN</td>\n",
       "      <td>7621550</td>\n",
       "      <td>7621550</td>\n",
       "      <td>7621550</td>\n",
       "      <td>NaN</td>\n",
       "      <td>NaN</td>\n",
       "      <td>NaN</td>\n",
       "    </tr>\n",
       "    <tr>\n",
       "      <th>1</th>\n",
       "      <td>N_multimapping</td>\n",
       "      <td>NaN</td>\n",
       "      <td>NaN</td>\n",
       "      <td>4820670</td>\n",
       "      <td>4820670</td>\n",
       "      <td>4820670</td>\n",
       "      <td>NaN</td>\n",
       "      <td>NaN</td>\n",
       "      <td>NaN</td>\n",
       "    </tr>\n",
       "    <tr>\n",
       "      <th>2</th>\n",
       "      <td>N_noFeature</td>\n",
       "      <td>NaN</td>\n",
       "      <td>NaN</td>\n",
       "      <td>2249322</td>\n",
       "      <td>32825579</td>\n",
       "      <td>32790945</td>\n",
       "      <td>NaN</td>\n",
       "      <td>NaN</td>\n",
       "      <td>NaN</td>\n",
       "    </tr>\n",
       "    <tr>\n",
       "      <th>3</th>\n",
       "      <td>N_ambiguous</td>\n",
       "      <td>NaN</td>\n",
       "      <td>NaN</td>\n",
       "      <td>6332806</td>\n",
       "      <td>1607967</td>\n",
       "      <td>1607457</td>\n",
       "      <td>NaN</td>\n",
       "      <td>NaN</td>\n",
       "      <td>NaN</td>\n",
       "    </tr>\n",
       "    <tr>\n",
       "      <th>4</th>\n",
       "      <td>ENSG00000000003.15</td>\n",
       "      <td>TSPAN6</td>\n",
       "      <td>protein_coding</td>\n",
       "      <td>2269</td>\n",
       "      <td>1119</td>\n",
       "      <td>1150</td>\n",
       "      <td>28.866</td>\n",
       "      <td>8.9476</td>\n",
       "      <td>8.6757</td>\n",
       "    </tr>\n",
       "  </tbody>\n",
       "</table>\n",
       "</div>"
      ],
      "text/plain": [
       "              gene_id gene_name       gene_type  unstranded  stranded_first  \\\n",
       "0          N_unmapped       NaN             NaN     7621550         7621550   \n",
       "1      N_multimapping       NaN             NaN     4820670         4820670   \n",
       "2         N_noFeature       NaN             NaN     2249322        32825579   \n",
       "3         N_ambiguous       NaN             NaN     6332806         1607967   \n",
       "4  ENSG00000000003.15    TSPAN6  protein_coding        2269            1119   \n",
       "\n",
       "   stranded_second  tpm_unstranded  fpkm_unstranded  fpkm_uq_unstranded  \n",
       "0          7621550             NaN              NaN                 NaN  \n",
       "1          4820670             NaN              NaN                 NaN  \n",
       "2         32790945             NaN              NaN                 NaN  \n",
       "3          1607457             NaN              NaN                 NaN  \n",
       "4             1150          28.866           8.9476              8.6757  "
      ]
     },
     "execution_count": 16,
     "metadata": {},
     "output_type": "execute_result"
    }
   ],
   "source": [
    "data.head()"
   ]
  },
  {
   "cell_type": "code",
   "execution_count": null,
   "id": "a70ab65a",
   "metadata": {},
   "outputs": [
    {
     "data": {
      "text/plain": [
       "0           NaN\n",
       "1           NaN\n",
       "2           NaN\n",
       "3           NaN\n",
       "4        8.6757\n",
       "          ...  \n",
       "60659    0.0000\n",
       "60660    1.3629\n",
       "60661    0.0000\n",
       "60662    0.0180\n",
       "60663    0.1549\n",
       "Name: fpkm_uq_unstranded, Length: 60664, dtype: float64"
      ]
     },
     "execution_count": 7,
     "metadata": {},
     "output_type": "execute_result"
    }
   ],
   "source": [
    "data['fpkm_uq_unstranded']"
   ]
  },
  {
   "cell_type": "code",
   "execution_count": null,
   "id": "bf637395",
   "metadata": {},
   "outputs": [],
   "source": []
  },
  {
   "cell_type": "code",
   "execution_count": null,
   "id": "7eb00547",
   "metadata": {},
   "outputs": [],
   "source": []
  },
  {
   "cell_type": "markdown",
   "id": "f8d771c9",
   "metadata": {},
   "source": [
    "### Mutation data"
   ]
  },
  {
   "cell_type": "code",
   "execution_count": null,
   "id": "6f546c49",
   "metadata": {},
   "outputs": [],
   "source": [
    "import gzip\n",
    "import os\n",
    "import pickle\n",
    "import re\n",
    "import requests"
   ]
  },
  {
   "cell_type": "markdown",
   "id": "cf5ac1a1",
   "metadata": {},
   "source": [
    "Query the database to get the case id for the mutation data"
   ]
  },
  {
   "cell_type": "code",
   "execution_count": 4,
   "id": "294c540a",
   "metadata": {},
   "outputs": [],
   "source": [
    "def lookup_case_metadata(file_uuid):\n",
    "    url = f\"https://api.gdc.cancer.gov/files/{file_uuid}?expand=cases\"\n",
    "    response = requests.get(url)\n",
    "    return response.json()"
   ]
  },
  {
   "cell_type": "code",
   "execution_count": 5,
   "id": "eae2cf3b",
   "metadata": {},
   "outputs": [],
   "source": [
    "def lookup_aliquots_metadata(file_uuid):\n",
    "    url = f\"https://api.gdc.cancer.gov/files/{file_uuid}?expand=cases.samples.portions.analytes.aliquots\"\n",
    "    response = requests.get(url)\n",
    "    return response.json()"
   ]
  },
  {
   "cell_type": "code",
   "execution_count": 49,
   "id": "a75e4555",
   "metadata": {},
   "outputs": [
    {
     "name": "stdout",
     "output_type": "stream",
     "text": [
      "Missing annotation: 1e171ca7-9c44-4dc9-8908-b35b40e3464e\n",
      "Missing annotation: 23c0af0c-102c-40e6-8e93-7ec13bc032b9\n",
      "Missing annotation: 2e9ac636-1882-4d71-b672-c057d2730f03\n",
      "Missing annotation: 56d15f8e-3788-4715-9ec8-853a107679a4\n",
      "Missing annotation: 7a7dcf94-b3d7-4516-9736-db8fdb7b451a\n",
      "Missing annotation: 803decea-3a3f-42bf-8122-328bc32aa850\n",
      "Missing annotation: c1a21a51-b8b7-453d-932e-2eacbaed8c2d\n",
      "Missing annotation: cb5fd63b-da6d-4016-b150-2a0682d00db2\n",
      "Missing annotation: e0e31082-4736-4917-a72b-9bf455239984\n",
      "Missing annotation: f3508f1c-34c8-4e72-87b3-0163273b0393\n",
      "Missing annotation: f90b3b34-16b3-435c-bbf1-82a1450ec7f0\n",
      "981\n"
     ]
    }
   ],
   "source": [
    "eid_to_mutations = {}\n",
    "for case_id in os.listdir(mutation_dir):\n",
    "    try:\n",
    "        annotations_df = pd.read_csv(mutation_dir+case_id+'/annotations.txt', sep='\\t')\n",
    "        eid_to_mutations[annotations_df['entity_id'].iloc[0]] = mutation_dir+case_id\n",
    "    except:\n",
    "        print(f'Missing annotation: {case_id}')\n",
    "\n",
    "print(len(mutation_entity_ids))"
   ]
  },
  {
   "cell_type": "code",
   "execution_count": 47,
   "id": "42996395",
   "metadata": {},
   "outputs": [],
   "source": [
    "def get_case_id(metadata):\n",
    "    try:\n",
    "        return metadata['data']['cases'][0]['case_id']\n",
    "    except (KeyError, IndexError):\n",
    "        return None"
   ]
  },
  {
   "cell_type": "code",
   "execution_count": 59,
   "id": "441e4fda",
   "metadata": {},
   "outputs": [
    {
     "name": "stdout",
     "output_type": "stream",
     "text": [
      "No cid found for dfefb76a-ec6b-4cd2-9d45-2e1e4befc7ea\n",
      "No cid found for e6f527a2-38eb-457e-bb39-3c5b9c0bcbec\n",
      "No cid found for 74f3a478-527e-4d49-9c3f-29f353e1fb6c\n",
      "No cid found for c1442467-d618-435f-8792-b1a18f696f1a\n",
      "No cid found for 6bc4c56d-aac5-49a2-9913-9538d06d898f\n",
      "No cid found for 7291657b-2a8c-467d-a763-3de577b6401b\n",
      "No cid found for 6f959c92-b79f-4f84-9ee5-d07d3212d52d\n",
      "No cid found for 36228261-b2db-4465-869a-672916782b71\n",
      "No cid found for b3354b72-2637-4edc-9a95-e55801d3ac13\n",
      "No cid found for 2779fa01-ac93-4e80-a997-3385f72172c3\n",
      "No cid found for 024b6e54-dc95-457d-a70d-9db56806159f\n",
      "No cid found for 33fe5833-d7a0-43d7-a03d-56985ea448a6\n",
      "No cid found for 44e34ec8-b65b-451c-aea9-89a6537bc689\n",
      "No cid found for 80f3f48a-cc21-415c-b181-c77e7ba1c563\n",
      "No cid found for 91ac9c48-a751-4e9a-96c3-558bb07c2754\n",
      "No cid found for e27e9375-d153-4d0d-80ea-19c0f58c6c60\n"
     ]
    }
   ],
   "source": [
    "cid_to_mutations = {}\n",
    "for eid, mutation in eid_to_mutations.items():\n",
    "    cid = get_case_id(lookup_case_metadata(eid))\n",
    "    if cid:\n",
    "        cid_to_mutations[cid] = mutation\n",
    "    else:\n",
    "        print(f'No cid found for {eid}')"
   ]
  },
  {
   "cell_type": "code",
   "execution_count": null,
   "id": "63a3ad00",
   "metadata": {},
   "outputs": [],
   "source": [
    "# Save the mapping\n",
    "import pickle\n",
    "with open('cid_to_mutations.pkl', 'wb') as f:\n",
    "    pickle.dump(cid_to_mutations, f)"
   ]
  },
  {
   "cell_type": "code",
   "execution_count": 8,
   "id": "86f50b83",
   "metadata": {},
   "outputs": [],
   "source": [
    "# Load the mapping\n",
    "import pickle\n",
    "with open('cid_to_mutations.pkl', 'rb') as f:\n",
    "    cid_to_mutations = pickle.load(f)"
   ]
  },
  {
   "cell_type": "markdown",
   "id": "2a1f092a",
   "metadata": {},
   "source": [
    "### Expression data"
   ]
  },
  {
   "cell_type": "markdown",
   "id": "7c8760ed",
   "metadata": {},
   "source": [
    "Lookup the expression file aliquot id"
   ]
  },
  {
   "cell_type": "code",
   "execution_count": 31,
   "id": "d961fc34",
   "metadata": {},
   "outputs": [],
   "source": [
    "def extract_aliquot_ids(metadata):\n",
    "    aliquot_ids = []\n",
    "    try:\n",
    "        for sample in metadata['data']['cases'][0]['samples']:\n",
    "            for portion in sample.get('portions', []):\n",
    "                for analyte in portion.get('analytes', []):\n",
    "                    for aliquot in analyte.get('aliquots', []):\n",
    "                        aliquot_ids.append(aliquot['aliquot_id'])\n",
    "    except Exception as e:\n",
    "        print(\"Error while parsing aliquot IDs:\", e)\n",
    "    return aliquot_ids"
   ]
  },
  {
   "cell_type": "code",
   "execution_count": 40,
   "id": "7836053e",
   "metadata": {},
   "outputs": [],
   "source": [
    "def extract_uuids(dir, ptrn):\n",
    "    res = []\n",
    "    for sample_id in os.listdir(dir):\n",
    "        for filename in os.listdir(dir+sample_id):\n",
    "            match = re.search(ptrn, filename, re.DOTALL)\n",
    "            if match:\n",
    "                res.append(match.group(1)) \n",
    "    return res\n",
    "\n",
    "expression_uuids = set(extract_uuids(expression_dir, r\"^(.+)\\.rna_seq\\.augmented_star_gene_counts\"))"
   ]
  },
  {
   "cell_type": "code",
   "execution_count": null,
   "id": "b87b1bea",
   "metadata": {},
   "outputs": [],
   "source": [
    "# For each case id in the expression dataset\n",
    "for id in os.listdir(expression_dir):\n",
    "    # Look up the aliquot ids associated with this case id - should only be one\n",
    "    aliquots = extract_aliquot_ids(lookup_file_metadata(id))\n",
    "    print(aliquots)\n",
    "    for aliquot_id in aliquots:\n",
    "        if aliquot_id in aliquot_to_files:\n",
    "            # Get the expression filename - should only be one\n",
    "            expression_file = [file for file in os.listdir(expression_dir+id) if file.endswith('.tsv')][0]\n",
    "            # Add it to the files\n",
    "            aliquot_to_files[aliquot_id].append(expression_file)\n",
    "            print('Aliquot not found in map:', aliquot_id)\n",
    "        else:\n",
    "            print('Aliquot not found in map:', aliquot_id)"
   ]
  },
  {
   "cell_type": "markdown",
   "id": "4c08eeeb",
   "metadata": {},
   "source": [
    "Look up expression case ids"
   ]
  },
  {
   "cell_type": "code",
   "execution_count": 69,
   "id": "117fa589",
   "metadata": {},
   "outputs": [],
   "source": [
    "cid_to_expressions = {}\n",
    "for expr_id in os.listdir(expression_dir):\n",
    "    cid = get_case_id(lookup_case_metadata(expr_id))\n",
    "    if cid:\n",
    "        cid_to_expressions[cid] = expression_dir+expr_id\n",
    "    else:\n",
    "        print(f'cid not found for {expr_id}')"
   ]
  },
  {
   "cell_type": "code",
   "execution_count": null,
   "id": "283ec4d8",
   "metadata": {},
   "outputs": [],
   "source": [
    "# Save the mapping\n",
    "import pickle\n",
    "with open('cid_to_expressions.pkl', 'wb') as f:\n",
    "    pickle.dump(cid_to_expressions, f)"
   ]
  },
  {
   "cell_type": "code",
   "execution_count": 9,
   "id": "82352c4c",
   "metadata": {},
   "outputs": [],
   "source": [
    "# Load the mapping\n",
    "with open('cid_to_expressions.pkl', 'rb') as f:\n",
    "    cid_to_expressions = pickle.load(f)"
   ]
  },
  {
   "cell_type": "code",
   "execution_count": 10,
   "id": "ac3db379",
   "metadata": {},
   "outputs": [],
   "source": [
    "cids = list(set(cid_to_expressions) & set(cid_to_mutations))"
   ]
  },
  {
   "cell_type": "code",
   "execution_count": 78,
   "id": "ef14eaa3",
   "metadata": {},
   "outputs": [
    {
     "name": "stdout",
     "output_type": "stream",
     "text": [
      "939 shared cases\n"
     ]
    }
   ],
   "source": [
    "print(f'{len(cids)} shared cases')"
   ]
  },
  {
   "cell_type": "markdown",
   "id": "011521a6",
   "metadata": {},
   "source": [
    "### Build the dataset"
   ]
  },
  {
   "cell_type": "code",
   "execution_count": 11,
   "id": "78eae308",
   "metadata": {},
   "outputs": [],
   "source": [
    "import gzip\n",
    "import numpy as np\n",
    "import os\n",
    "import pandas as pd"
   ]
  },
  {
   "cell_type": "code",
   "execution_count": 12,
   "id": "db761624",
   "metadata": {},
   "outputs": [],
   "source": [
    "#\n",
    "# Create the gene ordering.\n",
    "#   The gene ordering ensures all expression counts are ordered the same way in the feature vectors\n",
    "#\n",
    "\n",
    "gene_ordering =  set()\n",
    "\n",
    "for cid in cids:\n",
    "    #\n",
    "    # Load the expression dataframe\n",
    "    #\n",
    "    expr_case_dir = cid_to_expressions[cid]\n",
    "    tsv_file = [file for file in os.listdir(expr_case_dir) if file.endswith('.tsv')][0]\n",
    "    expr_df = pd.read_csv(expr_case_dir+'/'+tsv_file, sep='\\t', skiprows=1)\n",
    "    #\n",
    "    # Pull the gene names from the expr dataframe\n",
    "    #\n",
    "    gene_ids = set(expr_df.gene_id[~expr_df.gene_id.isna() & ~expr_df.gene_name.isna()])\n",
    "    #\n",
    "    # Check if this expression dataframe contains any unqiue gene names\n",
    "    #\n",
    "    diff = gene_ids - gene_ordering\n",
    "    for new_gene in diff:\n",
    "        gene_ordering.add(new_gene)\n",
    "\n",
    "#\n",
    "# Convert the gene_ordering to a list to enforce an ordering\n",
    "#\n",
    "gene_ordering = list(gene_ordering)"
   ]
  },
  {
   "cell_type": "code",
   "execution_count": 13,
   "id": "88321d5b",
   "metadata": {},
   "outputs": [
    {
     "name": "stdout",
     "output_type": "stream",
     "text": [
      "Number of genes in expression dataset: 60660\n"
     ]
    }
   ],
   "source": [
    "print('Number of genes in expression dataset:', len(gene_ordering))"
   ]
  },
  {
   "cell_type": "code",
   "execution_count": 14,
   "id": "dc0b8479",
   "metadata": {},
   "outputs": [],
   "source": [
    "# List of non-silent mutations to classify\n",
    "mutation_types = [\n",
    "    'Missense_Mutation',     # alters one amino acid\n",
    "    'Nonsense_Mutation',     # early stop codone\n",
    "    'Frame_Shift_Del',       # shifts 'reading frame' after deletion\n",
    "    'Frame_Shift_Ins',       # shifts 'reading frame' after insertion\n",
    "    'Splice_Site',           # dirupted splicing\n",
    "    'Nonstop_Mutation',      # missing stop codone\n",
    "    'Translation_Start_Site' # mutated start codone\n",
    "]"
   ]
  },
  {
   "cell_type": "code",
   "execution_count": 15,
   "id": "c4f87923",
   "metadata": {},
   "outputs": [
    {
     "name": "stderr",
     "output_type": "stream",
     "text": [
      "C:\\Users\\SBC98\\AppData\\Local\\Temp\\ipykernel_25736\\331707311.py:33: DtypeWarning: Columns (114,120) have mixed types. Specify dtype option on import or set low_memory=False.\n",
      "  mut_df = pd.read_csv(f, sep='\\t', skiprows=7)\n"
     ]
    }
   ],
   "source": [
    "X = [] # Feature matrix - gene expressions\n",
    "y = [] # Label vectory - binary, whether P25 gene is mutated\n",
    "\n",
    "#\n",
    "# For each case id that is shared between the expression and mutation datasets...\n",
    "#\n",
    "for cid in cids:\n",
    "    #\n",
    "    # --> Load the expression dataframe\n",
    "    #\n",
    "    expr_case_dir = cid_to_expressions[cid]\n",
    "    tsv_file = [file for file in os.listdir(expr_case_dir) if file.endswith('.tsv')][0]\n",
    "    expr_df = pd.read_csv(expr_case_dir+'/'+tsv_file, sep='\\t', skiprows=1)\n",
    "    #\n",
    "    # Sort the rows by gene ordering\n",
    "    #\n",
    "    expr_df = expr_df[expr_df['gene_id'].isin(gene_ordering)] # Exclude rows missing from gene ordering\n",
    "    expr_df = expr_df.set_index('gene_id').loc[gene_ordering]  # Ensure consistent order\n",
    "    #\n",
    "    # Get the fpkm_uq_unstranded column as the feature vector\n",
    "    #\n",
    "    x = expr_df['fpkm_uq_unstranded'].fillna(0.).values\n",
    "    #\n",
    "    # Add this feature vector to the feature matrix\n",
    "    #\n",
    "    X.append(x)\n",
    "    #\n",
    "    # --> Load the mutation dataframe\n",
    "    #\n",
    "    mut_case_dir = cid_to_mutations[cid]\n",
    "    mut_file = [file for file in os.listdir(mut_case_dir) if file.endswith('.maf.gz')][0]\n",
    "    with gzip.open(mut_case_dir+'/'+mut_file, 'rb') as f:\n",
    "        mut_df = pd.read_csv(f, sep='\\t', skiprows=7)\n",
    "    #\n",
    "    # Isolate the TP53 gene in the mutation file\n",
    "    #\n",
    "    tp53 = mut_df[mut_df['Hugo_Symbol'] == 'TP53']\n",
    "    #\n",
    "    # Check for non-silent mutations\n",
    "    #\n",
    "    mutated = False\n",
    "    if not tp53.empty:\n",
    "        mutations = tp53[\n",
    "            tp53['Variant_Classification'].isin(mutation_types)\n",
    "        ]\n",
    "        mutated = not mutations.empty\n",
    "    #\n",
    "    # Add the mutated boolean to the label vector\n",
    "    #\n",
    "    y.append(mutated)\n"
   ]
  },
  {
   "cell_type": "code",
   "execution_count": 16,
   "id": "df706cc9",
   "metadata": {},
   "outputs": [
    {
     "name": "stderr",
     "output_type": "stream",
     "text": [
      "C:\\Users\\SBC98\\AppData\\Local\\Temp\\ipykernel_25736\\1330128375.py:5: UserWarning: Creating a tensor from a list of numpy.ndarrays is extremely slow. Please consider converting the list to a single numpy.ndarray with numpy.array() before converting to a tensor. (Triggered internally at C:\\actions-runner\\_work\\pytorch\\pytorch\\pytorch\\torch\\csrc\\utils\\tensor_new.cpp:257.)\n",
      "  X = torch.tensor(X, dtype=torch.float32)\n"
     ]
    }
   ],
   "source": [
    "#\n",
    "# To torch\n",
    "#\n",
    "import torch\n",
    "X = torch.tensor(X, dtype=torch.float32)\n",
    "y = torch.tensor(y, dtype=torch.float32)"
   ]
  },
  {
   "cell_type": "code",
   "execution_count": 17,
   "id": "90ebe728",
   "metadata": {},
   "outputs": [],
   "source": [
    "#\n",
    "# Save\n",
    "#\n",
    "torch.save({'features': X, 'labels': y}, 'data.pt')"
   ]
  },
  {
   "cell_type": "code",
   "execution_count": null,
   "id": "7758189a",
   "metadata": {},
   "outputs": [],
   "source": []
  }
 ],
 "metadata": {
  "kernelspec": {
   "display_name": "ailab",
   "language": "python",
   "name": "python3"
  },
  "language_info": {
   "codemirror_mode": {
    "name": "ipython",
    "version": 3
   },
   "file_extension": ".py",
   "mimetype": "text/x-python",
   "name": "python",
   "nbconvert_exporter": "python",
   "pygments_lexer": "ipython3",
   "version": "3.13.2"
  }
 },
 "nbformat": 4,
 "nbformat_minor": 5
}
