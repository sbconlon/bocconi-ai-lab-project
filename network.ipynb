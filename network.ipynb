{
 "cells": [
  {
   "cell_type": "markdown",
   "id": "be2dd649",
   "metadata": {},
   "source": [
    "## Neural Network Training"
   ]
  },
  {
   "cell_type": "markdown",
   "id": "b91b589e",
   "metadata": {},
   "source": [
    "This file is for training a standard neural network architecture for binary classification"
   ]
  },
  {
   "cell_type": "markdown",
   "id": "0702e92a",
   "metadata": {},
   "source": [
    "##### 0. Imports"
   ]
  },
  {
   "cell_type": "code",
   "execution_count": null,
   "id": "317000d8",
   "metadata": {},
   "outputs": [],
   "source": [
    "from matplotlib import pyplot as plt\n",
    "import numpy as np\n",
    "from sklearn.decomposition import PCA\n",
    "from sklearn.metrics import classification_report, confusion_matrix, roc_auc_score\n",
    "from sklearn.preprocessing import StandardScaler\n",
    "import torch\n",
    "from torch import nn, optim\n",
    "from torch.utils.data import DataLoader, Dataset, random_split"
   ]
  },
  {
   "cell_type": "markdown",
   "id": "0104b087",
   "metadata": {},
   "source": [
    "##### 1. Load dataset"
   ]
  },
  {
   "cell_type": "code",
   "execution_count": 2,
   "id": "492a1f82",
   "metadata": {},
   "outputs": [],
   "source": [
    "data = torch.load('data.pt')\n",
    "features = data['features']\n",
    "labels = data['labels']"
   ]
  },
  {
   "cell_type": "code",
   "execution_count": 3,
   "id": "dfe84a00",
   "metadata": {},
   "outputs": [
    {
     "name": "stdout",
     "output_type": "stream",
     "text": [
      "Features shape: torch.Size([939, 60660])\n",
      "Labels shape: torch.Size([939])\n"
     ]
    }
   ],
   "source": [
    "print('Features shape:', features.shape)\n",
    "print('Labels shape:', labels.shape)"
   ]
  },
  {
   "cell_type": "markdown",
   "id": "20e35dce",
   "metadata": {},
   "source": [
    "##### 2. Data scaling"
   ]
  },
  {
   "cell_type": "markdown",
   "id": "7f88f000",
   "metadata": {},
   "source": [
    "Log transform - squashes large gene counts so that they don't dominate"
   ]
  },
  {
   "cell_type": "code",
   "execution_count": 4,
   "id": "ef99dffd",
   "metadata": {},
   "outputs": [
    {
     "name": "stderr",
     "output_type": "stream",
     "text": [
      "C:\\Users\\SBC98\\AppData\\Local\\Temp\\ipykernel_12044\\266357826.py:1: DeprecationWarning: __array_wrap__ must accept context and return_scalar arguments (positionally) in the future. (Deprecated NumPy 2.0)\n",
      "  features = np.log1p(features)\n"
     ]
    }
   ],
   "source": [
    "features = np.log1p(features)"
   ]
  },
  {
   "cell_type": "markdown",
   "id": "268c8205",
   "metadata": {},
   "source": [
    "Standard scalar - recenters the vectors around 0"
   ]
  },
  {
   "cell_type": "code",
   "execution_count": 5,
   "id": "b74cb1b5",
   "metadata": {},
   "outputs": [],
   "source": [
    "scaler = StandardScaler().fit(features)\n",
    "features = scaler.transform(features) "
   ]
  },
  {
   "cell_type": "markdown",
   "id": "306eb6df",
   "metadata": {},
   "source": [
    "##### 3. Dimensionality reduction"
   ]
  },
  {
   "cell_type": "markdown",
   "id": "c8d2a540",
   "metadata": {},
   "source": [
    "Principle Component Analysis"
   ]
  },
  {
   "cell_type": "code",
   "execution_count": 6,
   "id": "52127e04",
   "metadata": {},
   "outputs": [],
   "source": [
    "n_components = 100\n",
    "pca = PCA(n_components=n_components, random_state=42)\n",
    "features = pca.fit_transform(features)"
   ]
  },
  {
   "cell_type": "markdown",
   "id": "9569596b",
   "metadata": {},
   "source": [
    "##### 2. Create Torch dataset object"
   ]
  },
  {
   "cell_type": "code",
   "execution_count": 7,
   "id": "3885d5cc",
   "metadata": {},
   "outputs": [],
   "source": [
    "class BinaryDataset(Dataset):\n",
    "    def __init__(self, features, labels):\n",
    "        self.X = features\n",
    "        self.y = labels\n",
    "\n",
    "    def __len__(self):\n",
    "        return len(self.y)\n",
    "\n",
    "    def __getitem__(self, idx):\n",
    "        return self.X[idx], self.y[idx]"
   ]
  },
  {
   "cell_type": "markdown",
   "id": "a882d714",
   "metadata": {},
   "source": [
    "Check tensor data type"
   ]
  },
  {
   "cell_type": "code",
   "execution_count": 8,
   "id": "7e81486a",
   "metadata": {},
   "outputs": [],
   "source": [
    "if not isinstance(features, torch.Tensor):\n",
    "    features = torch.tensor(features, dtype=torch.float32)\n",
    "else:\n",
    "    features = features.float()\n",
    "\n",
    "if not isinstance(labels, torch.Tensor):\n",
    "    labels = torch.tensor(labels, dtype=torch.float32)\n",
    "else:\n",
    "    labels = labels.float()"
   ]
  },
  {
   "cell_type": "markdown",
   "id": "703f2db8",
   "metadata": {},
   "source": [
    "##### 3. Split train and test"
   ]
  },
  {
   "cell_type": "code",
   "execution_count": 9,
   "id": "d03f5c7f",
   "metadata": {},
   "outputs": [],
   "source": [
    "dataset = BinaryDataset(features, labels)\n",
    "train_size = int(0.7 * len(dataset))\n",
    "val_size = len(dataset) - train_size\n",
    "train_ds, val_ds = random_split(dataset, [train_size, val_size])"
   ]
  },
  {
   "cell_type": "markdown",
   "id": "30e98b40",
   "metadata": {},
   "source": [
    "##### 4. Define Torch dataloaders"
   ]
  },
  {
   "cell_type": "code",
   "execution_count": 10,
   "id": "7ee7778d",
   "metadata": {},
   "outputs": [],
   "source": [
    "batch_size = 32\n",
    "train_loader = DataLoader(train_ds, batch_size=batch_size, shuffle=True)\n",
    "val_loader = DataLoader(val_ds, batch_size=batch_size)"
   ]
  },
  {
   "cell_type": "markdown",
   "id": "84df6f51",
   "metadata": {},
   "source": [
    "##### 5. Define the model"
   ]
  },
  {
   "cell_type": "code",
   "execution_count": 59,
   "id": "6ac88e14",
   "metadata": {},
   "outputs": [],
   "source": [
    "class Network(nn.Module):\n",
    "    def __init__(self, input_dim):\n",
    "        super(Network, self).__init__()\n",
    "        self.net = nn.Sequential(\n",
    "            nn.Linear(input_dim, 248),\n",
    "            nn.ReLU(),\n",
    "            nn.Dropout(0.5),\n",
    "            nn.Linear(248, 124),\n",
    "            nn.ReLU(),\n",
    "            nn.Dropout(0.5),\n",
    "            nn.Linear(124, 1),\n",
    "            nn.Sigmoid()\n",
    "        )\n",
    "\n",
    "    def forward(self, x):\n",
    "        return self.net(x)"
   ]
  },
  {
   "cell_type": "code",
   "execution_count": 60,
   "id": "5fb5c0f1",
   "metadata": {},
   "outputs": [],
   "source": [
    "device = torch.device('cuda' if torch.cuda.is_available() else 'cpu')\n",
    "model = Network(input_dim=features.shape[1]).to(device)"
   ]
  },
  {
   "cell_type": "markdown",
   "id": "3cbc6dbb",
   "metadata": {},
   "source": [
    "##### 6. Set loss and optimizer"
   ]
  },
  {
   "cell_type": "code",
   "execution_count": 61,
   "id": "e76f64e9",
   "metadata": {},
   "outputs": [],
   "source": [
    "criterion = nn.BCELoss()\n",
    "optimizer = optim.Adam(model.parameters(), lr=1e-4)"
   ]
  },
  {
   "cell_type": "markdown",
   "id": "61849da9",
   "metadata": {},
   "source": [
    "##### 7. Train"
   ]
  },
  {
   "cell_type": "code",
   "execution_count": 62,
   "id": "83d3c025",
   "metadata": {},
   "outputs": [
    {
     "name": "stdout",
     "output_type": "stream",
     "text": [
      "--> Epoch 1/25, Loss: 1.0626\n",
      "Train Accuracy: 0.7519\n",
      "Validation Accuracy: 0.7553\n",
      "--> Epoch 2/25, Loss: 0.9494\n",
      "Train Accuracy: 0.8082\n",
      "Validation Accuracy: 0.8085\n",
      "--> Epoch 3/25, Loss: 1.0391\n",
      "Train Accuracy: 0.8265\n",
      "Validation Accuracy: 0.8121\n",
      "--> Epoch 4/25, Loss: 0.7004\n",
      "Train Accuracy: 0.8250\n",
      "Validation Accuracy: 0.8262\n",
      "--> Epoch 5/25, Loss: 0.6504\n",
      "Train Accuracy: 0.8295\n",
      "Validation Accuracy: 0.8262\n",
      "--> Epoch 6/25, Loss: 0.6522\n",
      "Train Accuracy: 0.8311\n",
      "Validation Accuracy: 0.8333\n",
      "--> Epoch 7/25, Loss: 0.6285\n",
      "Train Accuracy: 0.8326\n",
      "Validation Accuracy: 0.8333\n",
      "--> Epoch 8/25, Loss: 0.7464\n",
      "Train Accuracy: 0.8356\n",
      "Validation Accuracy: 0.8369\n",
      "--> Epoch 9/25, Loss: 0.5564\n",
      "Train Accuracy: 0.8387\n",
      "Validation Accuracy: 0.8298\n",
      "--> Epoch 10/25, Loss: 0.7004\n",
      "Train Accuracy: 0.8387\n",
      "Validation Accuracy: 0.8121\n",
      "--> Epoch 11/25, Loss: 0.5674\n",
      "Train Accuracy: 0.8387\n",
      "Validation Accuracy: 0.8156\n",
      "--> Epoch 12/25, Loss: 0.6150\n",
      "Train Accuracy: 0.8463\n",
      "Validation Accuracy: 0.8085\n",
      "--> Epoch 13/25, Loss: 0.4646\n",
      "Train Accuracy: 0.8432\n",
      "Validation Accuracy: 0.8156\n",
      "--> Epoch 14/25, Loss: 0.5313\n",
      "Train Accuracy: 0.8478\n",
      "Validation Accuracy: 0.8191\n",
      "--> Epoch 15/25, Loss: 0.6689\n",
      "Train Accuracy: 0.8508\n",
      "Validation Accuracy: 0.8156\n",
      "--> Epoch 16/25, Loss: 0.4534\n",
      "Train Accuracy: 0.8524\n",
      "Validation Accuracy: 0.8227\n",
      "--> Epoch 17/25, Loss: 0.4949\n",
      "Train Accuracy: 0.8524\n",
      "Validation Accuracy: 0.8227\n",
      "--> Epoch 18/25, Loss: 0.6072\n",
      "Train Accuracy: 0.8554\n",
      "Validation Accuracy: 0.8227\n",
      "--> Epoch 19/25, Loss: 0.6135\n",
      "Train Accuracy: 0.8630\n",
      "Validation Accuracy: 0.8262\n",
      "--> Epoch 20/25, Loss: 0.4064\n",
      "Train Accuracy: 0.8584\n",
      "Validation Accuracy: 0.8262\n",
      "--> Epoch 21/25, Loss: 0.4401\n",
      "Train Accuracy: 0.8691\n",
      "Validation Accuracy: 0.8227\n",
      "--> Epoch 22/25, Loss: 0.5411\n",
      "Train Accuracy: 0.8737\n",
      "Validation Accuracy: 0.8298\n",
      "--> Epoch 23/25, Loss: 0.4236\n",
      "Train Accuracy: 0.8767\n",
      "Validation Accuracy: 0.8404\n",
      "--> Epoch 24/25, Loss: 0.4173\n",
      "Train Accuracy: 0.8767\n",
      "Validation Accuracy: 0.8333\n",
      "--> Epoch 25/25, Loss: 0.4162\n",
      "Train Accuracy: 0.8813\n",
      "Validation Accuracy: 0.8262\n"
     ]
    }
   ],
   "source": [
    "num_epochs = 25\n",
    "train_losses = []\n",
    "trn_accuracies, val_accuracies = [], []\n",
    "for epoch in range(num_epochs):\n",
    "    \n",
    "    # Train over all batches of the train set\n",
    "    model.train()\n",
    "    total_loss = 0\n",
    "    for X_batch, y_batch in train_loader:\n",
    "        X_batch, y_batch = X_batch.to(device), y_batch.to(device).unsqueeze(1)\n",
    "        optimizer.zero_grad()\n",
    "        outputs = model(X_batch)\n",
    "        loss = criterion(outputs, y_batch)\n",
    "        loss.backward()\n",
    "        optimizer.step()\n",
    "        total_loss += loss.item() * X_batch.size(0)\n",
    "\n",
    "    # Save the model loss for this epoch\n",
    "    avg_loss = total_loss / train_size\n",
    "    train_losses.append(avg_loss)\n",
    "    print(f\"--> Epoch {epoch+1}/{num_epochs}, Loss: {avg_loss:.4f}\")\n",
    "\n",
    "    # Get model the model accuracies for this epoch\n",
    "    model.eval()\n",
    "    trn_correct, trn_total = 0, 0\n",
    "    val_correct, val_total = 0, 0\n",
    "    with torch.no_grad():\n",
    "        \n",
    "        # Train set\n",
    "        for X_trn, y_trn in train_loader:\n",
    "            X_trn, y_trn = X_trn.to(device), y_trn.to(device).unsqueeze(1)\n",
    "            preds = (model(X_trn) > 0.5).float()\n",
    "            trn_correct += (preds == y_trn).sum().item()\n",
    "            trn_total += y_trn.size(0)\n",
    "        \n",
    "        # Test set\n",
    "        for X_val, y_val in val_loader:\n",
    "            X_val, y_val = X_val.to(device), y_val.to(device).unsqueeze(1)\n",
    "            preds = (model(X_val) > 0.5).float()\n",
    "            val_correct += (preds == y_val).sum().item()\n",
    "            val_total += y_val.size(0)\n",
    "    \n",
    "    trn_acc = trn_correct / trn_total\n",
    "    val_acc = val_correct / val_total\n",
    "    \n",
    "    trn_accuracies.append(trn_acc)\n",
    "    val_accuracies.append(val_acc)\n",
    "    \n",
    "    print(f\"Train Accuracy: {trn_acc:.4f}\")\n",
    "    print(f\"Validation Accuracy: {val_acc:.4f}\")"
   ]
  },
  {
   "cell_type": "markdown",
   "id": "740e0ea4",
   "metadata": {},
   "source": [
    "##### 5. Evaluate"
   ]
  },
  {
   "cell_type": "markdown",
   "id": "b8471441",
   "metadata": {},
   "source": [
    "Plot the loss curve"
   ]
  },
  {
   "cell_type": "code",
   "execution_count": 63,
   "id": "7d143d1a",
   "metadata": {},
   "outputs": [
    {
     "data": {
      "image/png": "[encoded data removed]",
      "text/plain": [
       "<Figure size 640x480 with 1 Axes>"
      ]
     },
     "metadata": {},
     "output_type": "display_data"
    }
   ],
   "source": [
    "plt.figure()\n",
    "plt.plot(range(1, num_epochs+1), train_losses, marker='o', ms=2.5)\n",
    "plt.title('Training Loss over Epochs')\n",
    "plt.xlabel('Epoch')\n",
    "plt.ylabel('Loss')\n",
    "plt.show()"
   ]
  },
  {
   "cell_type": "markdown",
   "id": "7415ec8f",
   "metadata": {},
   "source": [
    "Plot the validation accuracy curve"
   ]
  },
  {
   "cell_type": "code",
   "execution_count": 64,
   "id": "0dcce6d4",
   "metadata": {},
   "outputs": [
    {
     "data": {
      "image/png": "[encoded data removed]",
      "text/plain": [
       "<Figure size 640x480 with 1 Axes>"
      ]
     },
     "metadata": {},
     "output_type": "display_data"
    }
   ],
   "source": [
    "plt.figure()\n",
    "plt.plot(range(1, num_epochs+1), trn_accuracies, marker='o', label='Train', color='red', ms=2.5)\n",
    "plt.plot(range(1, num_epochs+1), val_accuracies, marker='o', label='Test', ms=2.5)\n",
    "plt.title('Accuracy over Epochs')\n",
    "plt.xlabel('Epoch')\n",
    "plt.ylabel('Accuracy')\n",
    "plt.legend()\n",
    "plt.show()"
   ]
  },
  {
   "cell_type": "code",
   "execution_count": null,
   "id": "5cd7dd90",
   "metadata": {},
   "outputs": [],
   "source": []
  }
 ],
 "metadata": {
  "kernelspec": {
   "display_name": "ailab",
   "language": "python",
   "name": "python3"
  },
  "language_info": {
   "codemirror_mode": {
    "name": "ipython",
    "version": 3
   },
   "file_extension": ".py",
   "mimetype": "text/x-python",
   "name": "python",
   "nbconvert_exporter": "python",
   "pygments_lexer": "ipython3",
   "version": "3.13.2"
  }
 },
 "nbformat": 4,
 "nbformat_minor": 5
}
